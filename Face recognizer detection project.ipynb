{
 "cells": [
  {
   "cell_type": "code",
   "execution_count": 46,
   "id": "d381f5e5",
   "metadata": {},
   "outputs": [],
   "source": [
    "import os \n",
    "import cv2\n",
    "import numpy as np\n",
    "from keras.models import load_model\n",
    "from datetime import datetime\n",
    "import mysql.connector"
   ]
  },
  {
   "cell_type": "markdown",
   "id": "36903129",
   "metadata": {},
   "source": [
    "# Loading the model"
   ]
  },
  {
   "cell_type": "code",
   "execution_count": 38,
   "id": "40f5fde4",
   "metadata": {},
   "outputs": [],
   "source": [
    "model=load_model('second model.h5')"
   ]
  },
  {
   "cell_type": "code",
   "execution_count": 39,
   "id": "e0343686",
   "metadata": {},
   "outputs": [],
   "source": [
    "face_detection2=cv2.CascadeClassifier('haarcascade_frontalface_alt2.xml')"
   ]
  },
  {
   "cell_type": "markdown",
   "id": "f9a60b5a",
   "metadata": {},
   "source": [
    "# Defining text fonts and such"
   ]
  },
  {
   "cell_type": "code",
   "execution_count": 40,
   "id": "61ff4efa",
   "metadata": {},
   "outputs": [],
   "source": [
    "font                   = cv2.FONT_HERSHEY_SIMPLEX\n",
    "bottomLeftCornerOfText = (10,500)\n",
    "fontScale              = 1\n",
    "fontColor_green        = (0,255,0)\n",
    "fontColor_red           =(0,0,255)\n",
    "lineType               = 2"
   ]
  },
  {
   "cell_type": "markdown",
   "id": "f80f8ba6",
   "metadata": {},
   "source": [
    "# Updating to database script"
   ]
  },
  {
   "cell_type": "code",
   "execution_count": 49,
   "id": "4ca38370",
   "metadata": {},
   "outputs": [],
   "source": [
    "def update_database():\n",
    "    now = datetime.now()\n",
    "    current_time = now.strftime(\"%H%M%S\")\n",
    "\n",
    "    today = date.today()\n",
    "    current_date= today.strftime(\"%d%m%Y\")\n",
    "    \n",
    "    \n",
    "    mydb=mysql.connector.connect(host='localhost',user='root',password='',database='')\n",
    "    mycursor=mydb.cursor()\n",
    "    final_query = f\"\"\"INSERT INTO attendance(Date,Name,Time) \n",
    "                            VALUES \n",
    "                            ({current_date},'aliff nabil',{current_time}) \"\"\"\n",
    "    mycursor.execute(final_query)\n",
    "    mydb.commit()\n",
    "    print('database update')"
   ]
  },
  {
   "cell_type": "markdown",
   "id": "585fc405",
   "metadata": {},
   "source": [
    "# Main function for the face recognition application to be run"
   ]
  },
  {
   "cell_type": "code",
   "execution_count": 47,
   "id": "2de65d51",
   "metadata": {},
   "outputs": [],
   "source": [
    "webcam=cv2.VideoCapture(1)\n",
    "\n",
    "def face_detector():\n",
    "    while True:\n",
    "        success,img=webcam.read()\n",
    "        \n",
    "        image=cv2.cvtColor(img,cv2.COLOR_BGR2GRAY)\n",
    "        \n",
    "        face_detector=face_detection2.detectMultiScale(image,scaleFactor=1.1,minNeighbors=3)\n",
    "        \n",
    "        for x,y,w,h in face_detector:\n",
    "            cv2.rectangle(img,(x,y),(x+w,y+h),(0,255,0),1)\n",
    "            #print('face detected')\n",
    "            \n",
    "            face_outline=img[x:x+w,y:y+h]\n",
    "            face_outline=cv2.resize(face_outline,(83,83))\n",
    "            face_outline=face_outline/255\n",
    "            face_outline=np.expand_dims(face_outline,axis=0)\n",
    "            \n",
    "            face_prediction=np.argmax(model.predict(face_outline))\n",
    "            print(face_prediction)\n",
    "            \n",
    "        \n",
    "            if face_prediction==0:\n",
    "                cv2.putText(img,'aliff nabil',(x,y),font,fontScale,fontColor_red,lineType)\n",
    "                update_database()\n",
    "            else:\n",
    "                cv2.putText(img,'badrul hisham',(x,y),font,fontScale,fontColor_red,lineType)\n",
    "        \n",
    "        #show the video\n",
    "        cv2.imshow('video',img)\n",
    "\n",
    "        #if press q, the windows will stop and will not break the kernel. then, can edit the script again\n",
    "        if cv2.waitKey(1)&0xFF==ord('q'):\n",
    "            cv2.destroyAllWindows() \n",
    "            break\n",
    "          "
   ]
  },
  {
   "cell_type": "code",
   "execution_count": 48,
   "id": "4b79e19a",
   "metadata": {},
   "outputs": [
    {
     "name": "stdout",
     "output_type": "stream",
     "text": [
      "1\n",
      "1\n",
      "0\n",
      "database update\n",
      "1\n",
      "0\n",
      "database update\n",
      "1\n",
      "1\n",
      "1\n",
      "1\n",
      "1\n",
      "1\n",
      "1\n",
      "1\n",
      "1\n",
      "1\n",
      "1\n",
      "1\n",
      "1\n",
      "1\n",
      "1\n",
      "1\n",
      "1\n",
      "1\n",
      "1\n",
      "0\n",
      "database update\n",
      "1\n",
      "1\n",
      "1\n",
      "0\n",
      "database update\n",
      "0\n",
      "database update\n",
      "0\n",
      "database update\n",
      "0\n",
      "database update\n",
      "0\n",
      "database update\n",
      "0\n",
      "database update\n",
      "0\n",
      "database update\n",
      "0\n",
      "database update\n",
      "0\n",
      "database update\n",
      "0\n",
      "database update\n",
      "0\n",
      "database update\n",
      "0\n",
      "database update\n"
     ]
    }
   ],
   "source": [
    "face_detector()"
   ]
  },
  {
   "cell_type": "markdown",
   "id": "71a13a92",
   "metadata": {},
   "source": [
    "Getting current time and date"
   ]
  },
  {
   "cell_type": "code",
   "execution_count": 30,
   "id": "4e71da3f",
   "metadata": {},
   "outputs": [
    {
     "name": "stdout",
     "output_type": "stream",
     "text": [
      "Current Time = 152728\n"
     ]
    }
   ],
   "source": [
    "from datetime import datetime\n",
    "\n",
    "now = datetime.now()\n",
    "\n",
    "current_time = now.strftime(\"%H%M%S\")\n",
    "print(\"Current Time =\", current_time)"
   ]
  },
  {
   "cell_type": "code",
   "execution_count": 29,
   "id": "5ea2a773",
   "metadata": {},
   "outputs": [
    {
     "name": "stdout",
     "output_type": "stream",
     "text": [
      "d1 = 15092021\n"
     ]
    }
   ],
   "source": [
    "from datetime import date\n",
    "\n",
    "today = date.today()\n",
    "\n",
    "# dd/mm/YY\n",
    "current_date= today.strftime(\"%d%m%Y\")\n",
    "print(\"d1 =\", current_date)"
   ]
  },
  {
   "cell_type": "markdown",
   "id": "1e15823e",
   "metadata": {},
   "source": [
    "create table attendance(Date int,Name text,Time int);\n",
    "\n",
    "insert into attendance(Date,Name,Time) VALUES (15092021,'aliff',151737);"
   ]
  }
 ],
 "metadata": {
  "kernelspec": {
   "display_name": "Python 3",
   "language": "python",
   "name": "python3"
  },
  "language_info": {
   "codemirror_mode": {
    "name": "ipython",
    "version": 3
   },
   "file_extension": ".py",
   "mimetype": "text/x-python",
   "name": "python",
   "nbconvert_exporter": "python",
   "pygments_lexer": "ipython3",
   "version": "3.9.5"
  }
 },
 "nbformat": 4,
 "nbformat_minor": 5
}
